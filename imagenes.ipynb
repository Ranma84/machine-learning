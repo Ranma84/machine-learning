{
 "cells": [
  {
   "cell_type": "code",
   "execution_count": 4,
   "metadata": {},
   "outputs": [],
   "source": [
    "import numpy as np\n",
    "from PIL import Image\n",
    "\n",
    "square_animation = []\n",
    "for offset in range(0, 100, 2):\n",
    "     red = np.zeros((600, 600))\n",
    "     green = np.zeros((600, 600))\n",
    "     blue = np.zeros((600, 600))\n",
    "     red[101 + offset : 301 + offset, 101 + offset : 301 + offset] = 255\n",
    "     green[200:400, 200:400] = 255\n",
    "     blue[299 - offset : 499 - offset, 299 - offset : 499 - offset] = 255\n",
    "     red_img = Image.fromarray(red).convert(\"L\")\n",
    "     green_img = Image.fromarray(green).convert(\"L\")\n",
    "     blue_img = Image.fromarray((blue)).convert(\"L\")\n",
    "     square_animation.append(\n",
    "         Image.merge(\n",
    "             \"RGB\",\n",
    "             (red_img, green_img, blue_img)\n",
    "         )\n",
    "     )\n",
    "\n",
    "square_animation[0].save(\n",
    "     \"animation.gif\", save_all=True, append_images=square_animation[1:]\n",
    " ) "
   ]
  }
 ],
 "metadata": {
  "kernelspec": {
   "display_name": "Python 3.10.2 64-bit",
   "language": "python",
   "name": "python3"
  },
  "language_info": {
   "codemirror_mode": {
    "name": "ipython",
    "version": 3
   },
   "file_extension": ".py",
   "mimetype": "text/x-python",
   "name": "python",
   "nbconvert_exporter": "python",
   "pygments_lexer": "ipython3",
   "version": "3.10.2"
  },
  "orig_nbformat": 4,
  "vscode": {
   "interpreter": {
    "hash": "369f2c481f4da34e4445cda3fffd2e751bd1c4d706f27375911949ba6bb62e1c"
   }
  }
 },
 "nbformat": 4,
 "nbformat_minor": 2
}
