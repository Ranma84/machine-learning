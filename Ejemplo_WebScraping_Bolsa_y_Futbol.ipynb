{
 "cells": [
  {
   "cell_type": "markdown",
   "metadata": {},
   "source": [
    "# Ejemplo de WebScraping con Python\n",
    "## Obtener Ibex35 bolsa de Madrid"
   ]
  },
  {
   "cell_type": "code",
   "execution_count": 28,
   "metadata": {
    "ExecuteTime": {
     "end_time": "2019-01-27T17:53:23.662759Z",
     "start_time": "2019-01-27T17:53:23.651938Z"
    }
   },
   "outputs": [],
   "source": [
    "# import libraries\n",
    "import requests\n",
    "from bs4 import BeautifulSoup\n",
    "import csv\n",
    "from datetime import datetime"
   ]
  },
  {
   "cell_type": "code",
   "execution_count": 29,
   "metadata": {
    "ExecuteTime": {
     "end_time": "2019-01-27T17:38:57.659158Z",
     "start_time": "2019-01-27T17:38:57.655785Z"
    }
   },
   "outputs": [],
   "source": [
    "# indicar la ruta\n",
    "url_page = 'http://www.bolsamadrid.es/esp/aspx/Indices/Resumen.aspx'"
   ]
  },
  {
   "cell_type": "code",
   "execution_count": 30,
   "metadata": {
    "ExecuteTime": {
     "end_time": "2019-01-27T17:40:11.127856Z",
     "start_time": "2019-01-27T17:40:10.642601Z"
    }
   },
   "outputs": [],
   "source": [
    "# tarda 480 milisegundos\n",
    "page = requests.get(url_page).text \n",
    "soup = BeautifulSoup(page)"
   ]
  },
  {
   "cell_type": "code",
   "execution_count": 31,
   "metadata": {
    "ExecuteTime": {
     "end_time": "2019-01-27T17:42:00.515429Z",
     "start_time": "2019-01-27T17:42:00.504178Z"
    }
   },
   "outputs": [
    {
     "data": {
      "text/plain": [
       "<table align=\"Center\" cellpadding=\"3\" cellspacing=\"0\" class=\"TblPort\" id=\"ctl00_Contenido_tblÍndices\" style=\"margin-bottom: 20px;\" width=\"85%\">\n",
       "<tr align=\"center\">\n",
       "<th scope=\"col\">Nombre</th><th scope=\"col\">Anterior</th><th scope=\"col\">Último</th><th scope=\"col\">% Dif.</th><th scope=\"col\">Máximo</th><th scope=\"col\">Mínimo</th><th scope=\"col\">Fecha</th><th scope=\"col\">Hora</th><th class=\"Ult\" scope=\"col\">% Dif.<br/>Año 2022</th>\n",
       "</tr><tr align=\"right\">\n",
       "<td align=\"left\" class=\"DifFlBj\">IBEX 35®</td><td>8.156,20</td><td>8.085,10</td><td class=\"DifClBj\">-0,87</td><td>8.230,70</td><td>8.071,80</td><td align=\"center\">01/08/2022</td><td align=\"center\">17:38:00</td><td class=\"DifClBj Ult\">-7,21</td>\n",
       "</tr><tr align=\"right\">\n",
       "<td align=\"left\" class=\"DifFlBj\">IBEX 35® con Dividendos</td><td>25.849,30</td><td>25.624,10</td><td class=\"DifClBj\">-0,87</td><td>26.085,30</td><td>25.582,00</td><td align=\"center\">01/08/2022</td><td align=\"center\">17:38:00</td><td class=\"DifClBj Ult\">-4,67</td>\n",
       "</tr><tr align=\"right\">\n",
       "<td align=\"left\" class=\"DifFlBj\">IBEX MEDIUM CAP®</td><td>12.930,80</td><td>12.761,20</td><td class=\"DifClBj\">-1,31</td><td>12.941,50</td><td>12.758,70</td><td align=\"center\">01/08/2022</td><td align=\"center\">17:38:00</td><td class=\"DifClBj Ult\">-7,63</td>\n",
       "</tr><tr align=\"right\">\n",
       "<td align=\"left\" class=\"DifFlBj\">IBEX SMALL CAP®</td><td>7.747,90</td><td>7.601,10</td><td class=\"DifClBj\">-1,89</td><td>7.769,60</td><td>7.580,10</td><td align=\"center\">01/08/2022</td><td align=\"center\">17:38:01</td><td class=\"DifClBj Ult\">-7,77</td>\n",
       "</tr><tr align=\"right\">\n",
       "<td align=\"left\" class=\"DifFlBj\">IBEX 35® Bancos</td><td>426,90</td><td>421,40</td><td class=\"DifClBj\">-1,29</td><td>434,40</td><td>420,60</td><td align=\"center\">01/08/2022</td><td align=\"center\">17:38:01</td><td class=\"DifClBj Ult\">-8,98</td>\n",
       "</tr><tr align=\"right\">\n",
       "<td align=\"left\" class=\"DifFlBj\">IBEX 35® Energía</td><td>1.401,30</td><td>1.388,10</td><td class=\"DifClBj\">-0,94</td><td>1.411,50</td><td>1.384,30</td><td align=\"center\">01/08/2022</td><td align=\"center\">17:38:01</td><td class=\"DifClSb Ult\">2,85</td>\n",
       "</tr><tr align=\"right\">\n",
       "<td align=\"left\" class=\"DifFlBj\">IBEX 35® Construcción</td><td>1.648,50</td><td>1.626,20</td><td class=\"DifClBj\">-1,35</td><td>1.655,80</td><td>1.622,60</td><td align=\"center\">01/08/2022</td><td align=\"center\">17:38:01</td><td class=\"DifClSb Ult\">1,88</td>\n",
       "</tr><tr align=\"right\">\n",
       "<td align=\"left\" class=\"DifFlBj\">IBEX Gender Equality</td><td>8.496,50</td><td>8.379,00</td><td class=\"DifClBj\">-1,38</td><td>8.517,00</td><td>8.370,50</td><td align=\"center\">01/08/2022</td><td align=\"center\">17:38:00</td><td class=\"DifClBj Ult\">-3,80</td>\n",
       "</tr><tr align=\"right\">\n",
       "<td align=\"left\" class=\"DifFlBj\">IBEX Gender Equality Total Return</td><td>9.627,90</td><td>9.494,70</td><td class=\"DifClBj\">-1,38</td><td>9.651,20</td><td>9.485,20</td><td align=\"center\">01/08/2022</td><td align=\"center\">17:38:00</td><td class=\"DifClBj Ult\">-1,96</td>\n",
       "</tr><tr align=\"right\">\n",
       "<td align=\"left\" class=\"DifFlBj\">IBEX Gender Equality Net Return</td><td>9.407,50</td><td>9.277,50</td><td class=\"DifClBj\">-1,38</td><td>9.430,30</td><td>9.268,10</td><td align=\"center\">01/08/2022</td><td align=\"center\">17:38:00</td><td class=\"DifClBj Ult\">-2,30</td>\n",
       "</tr><tr align=\"right\">\n",
       "<td align=\"left\" class=\"DifFlBj\">IBEX TOP Dividendo®</td><td>2.568,50</td><td>2.530,80</td><td class=\"DifClBj\">-1,47</td><td>2.574,40</td><td>2.528,60</td><td align=\"center\">01/08/2022</td><td align=\"center\">17:38:00</td><td class=\"DifClSb Ult\">1,28</td>\n",
       "</tr><tr align=\"right\">\n",
       "<td align=\"left\" class=\"DifFlBj\">IBEX 35® con Dividendos Netos</td><td>21.497,50</td><td>21.310,20</td><td class=\"DifClBj\">-0,87</td><td>21.693,80</td><td>21.275,20</td><td align=\"center\">01/08/2022</td><td align=\"center\">17:38:00</td><td class=\"DifClBj Ult\">-5,15</td>\n",
       "</tr><tr align=\"right\">\n",
       "<td align=\"left\" class=\"DifFlSb\">IBEX 35® Inverso</td><td>2.210,20</td><td>2.229,40</td><td class=\"DifClSb\">0,87</td><td>2.233,00</td><td>2.190,00</td><td align=\"center\">01/08/2022</td><td align=\"center\">17:38:00</td><td class=\"DifClSb Ult\">1,90</td>\n",
       "</tr><tr align=\"right\">\n",
       "<td align=\"left\" class=\"DifFlSb\">IBEX 35® Doble Inverso</td><td>235,60</td><td>239,70</td><td class=\"DifClSb\">1,74</td><td>240,50</td><td>231,30</td><td align=\"center\">01/08/2022</td><td align=\"center\">17:38:00</td><td class=\"DifClSb Ult\">0,88</td>\n",
       "</tr><tr align=\"right\">\n",
       "<td align=\"left\" class=\"DifFlSb\">IBEX 35® Inverso X3</td><td>9.068,90</td><td>9.305,50</td><td class=\"DifClSb\">2,61</td><td>9.349,80</td><td>8.820,10</td><td align=\"center\">01/08/2022</td><td align=\"center\">17:38:00</td><td class=\"DifClBj Ult\">-2,68</td>\n",
       "</tr><tr align=\"right\">\n",
       "<td align=\"left\" class=\"DifFlSb\">IBEX 35® Inverso X5</td><td>774,90</td><td>808,60</td><td class=\"DifClSb\">4,35</td><td>814,90</td><td>739,50</td><td align=\"center\">01/08/2022</td><td align=\"center\">17:38:00</td><td class=\"DifClBj Ult\">-16,93</td>\n",
       "</tr><tr align=\"right\">\n",
       "<td align=\"left\" class=\"DifFlSb\">IBEX 35® Inverso X10</td><td>5.506,10</td><td>5.984,90</td><td class=\"DifClSb\">8,70</td><td>6.074,60</td><td>5.002,50</td><td align=\"center\">01/08/2022</td><td align=\"center\">17:38:00</td><td class=\"DifClSb Ult\">784,07</td>\n",
       "</tr><tr align=\"right\">\n",
       "<td align=\"left\" class=\"DifFlBj\">IBEX 35® Doble Apalancado</td><td>3.380,30</td><td>3.321,40</td><td class=\"DifClBj\">-1,74</td><td>3.442,00</td><td>3.310,30</td><td align=\"center\">01/08/2022</td><td align=\"center\">17:38:00</td><td class=\"DifClBj Ult\">-16,32</td>\n",
       "</tr><tr align=\"right\">\n",
       "<td align=\"left\" class=\"DifFlBj\">IBEX 35® Doble Apalancado Bruto</td><td>17.029,60</td><td>16.732,80</td><td class=\"DifClBj\">-1,74</td><td>17.340,50</td><td>16.677,40</td><td align=\"center\">01/08/2022</td><td align=\"center\">17:38:00</td><td class=\"DifClBj Ult\">-11,65</td>\n",
       "</tr><tr align=\"right\">\n",
       "<td align=\"left\" class=\"DifFlBj\">IBEX 35® Doble Apalancado Neto</td><td>13.983,60</td><td>13.739,90</td><td class=\"DifClBj\">-1,74</td><td>14.238,90</td><td>13.694,40</td><td align=\"center\">01/08/2022</td><td align=\"center\">17:38:00</td><td class=\"DifClBj Ult\">-12,54</td>\n",
       "</tr><tr align=\"right\">\n",
       "<td align=\"left\" class=\"DifFlBj\">IBEX 35® Apalancado X3</td><td>402,60</td><td>392,10</td><td class=\"DifClBj\">-2,61</td><td>413,60</td><td>390,10</td><td align=\"center\">01/08/2022</td><td align=\"center\">17:38:00</td><td class=\"DifClBj Ult\">-26,60</td>\n",
       "</tr><tr align=\"right\">\n",
       "<td align=\"left\" class=\"DifFlBj\">IBEX 35® Apalancado Neto X3</td><td>5.181,80</td><td>5.046,30</td><td class=\"DifClBj\">-2,61</td><td>5.323,70</td><td>5.021,00</td><td align=\"center\">01/08/2022</td><td align=\"center\">17:38:00</td><td class=\"DifClBj Ult\">-21,62</td>\n",
       "</tr><tr align=\"right\">\n",
       "<td align=\"left\" class=\"DifFlBj\">IBEX 35® Apalancado Neto X5</td><td>199,30</td><td>190,60</td><td class=\"DifClBj\">-4,37</td><td>208,40</td><td>189,00</td><td align=\"center\">01/08/2022</td><td align=\"center\">17:38:00</td><td class=\"DifClBj Ult\">-42,24</td>\n",
       "</tr><tr align=\"right\">\n",
       "<td align=\"left\" class=\"DifFlBj\">IBEX 35® Apalancado Neto X10</td><td>35,80</td><td>32,70</td><td class=\"DifClBj\">-8,66</td><td>39,10</td><td>32,10</td><td align=\"center\">01/08/2022</td><td align=\"center\">17:38:00</td><td class=\"DifClBj Ult\">-84,43</td>\n",
       "</tr><tr align=\"right\">\n",
       "<td align=\"left\" class=\"DifFlBj\">IBEX 35® Capped Net Return</td><td>21.556,40</td><td>21.368,60</td><td class=\"DifClBj\">-0,87</td><td>21.753,20</td><td>21.333,50</td><td align=\"center\">01/08/2022</td><td align=\"center\">17:38:01</td><td class=\"DifClBj Ult\">-5,15</td>\n",
       "</tr><tr align=\"right\">\n",
       "<td align=\"left\" class=\"DifFlIg\">IBEX 35® Impacto Div</td><td>233,30</td><td>233,30</td><td class=\"DifClIg\">- </td><td>233,30</td><td>233,30</td><td align=\"center\">01/08/2022</td><td align=\"center\"> </td><td class=\"DifClIg Ult\">- </td>\n",
       "</tr><tr align=\"right\">\n",
       "<td align=\"left\" class=\"DifFlBj\">IBEX 35® Volatilidad Objetivo 10% Estándar</td><td>172,60</td><td>171,90</td><td class=\"DifClBj\">-0,41</td><td>173,40</td><td>171,70</td><td align=\"center\">01/08/2022</td><td align=\"center\">17:38:00</td><td class=\"DifClBj Ult\">-3,59</td>\n",
       "</tr><tr align=\"right\">\n",
       "<td align=\"left\" class=\"DifFlBj\">IBEX 35® Volatilidad Objetivo 12% Estándar</td><td>177,50</td><td>176,60</td><td class=\"DifClBj\">-0,51</td><td>178,50</td><td>176,40</td><td align=\"center\">01/08/2022</td><td align=\"center\">17:38:00</td><td class=\"DifClBj Ult\">-4,07</td>\n",
       "</tr><tr align=\"right\">\n",
       "<td align=\"left\" class=\"DifFlBj\">IBEX 35® Volatilidad Objetivo 15% Estándar</td><td>179,10</td><td>177,90</td><td class=\"DifClBj\">-0,67</td><td>180,30</td><td>177,70</td><td align=\"center\">01/08/2022</td><td align=\"center\">17:38:00</td><td class=\"DifClBj Ult\">-5,42</td>\n",
       "</tr><tr align=\"right\">\n",
       "<td align=\"left\" class=\"DifFlBj\">IBEX 35® Volatilidad Objetivo 18% Estándar</td><td>175,80</td><td>174,40</td><td class=\"DifClBj\">-0,80</td><td>177,20</td><td>174,20</td><td align=\"center\">01/08/2022</td><td align=\"center\">17:38:00</td><td class=\"DifClBj Ult\">-6,69</td>\n",
       "</tr><tr align=\"right\">\n",
       "<td align=\"left\" class=\"DifFlBj\">IBEX 35® Volatilidad Objetivo 10% Financiado</td><td>124,50</td><td>124,00</td><td class=\"DifClBj\">-0,40</td><td>125,10</td><td>123,90</td><td align=\"center\">01/08/2022</td><td align=\"center\">17:38:00</td><td class=\"DifClBj Ult\">-3,73</td>\n",
       "</tr><tr align=\"right\">\n",
       "<td align=\"left\" class=\"DifFlBj\">IBEX 35® Volatilidad Objetivo 12% Financiado</td><td>126,70</td><td>126,00</td><td class=\"DifClBj\">-0,55</td><td>127,40</td><td>125,90</td><td align=\"center\">01/08/2022</td><td align=\"center\">17:38:00</td><td class=\"DifClBj Ult\">-4,62</td>\n",
       "</tr><tr align=\"right\">\n",
       "<td align=\"left\" class=\"DifFlBj\">IBEX 35® Volatilidad Objetivo 15% Financiado</td><td>130,30</td><td>129,50</td><td class=\"DifClBj\">-0,61</td><td>131,20</td><td>129,30</td><td align=\"center\">01/08/2022</td><td align=\"center\">17:38:00</td><td class=\"DifClBj Ult\">-5,54</td>\n",
       "</tr><tr align=\"right\">\n",
       "<td align=\"left\" class=\"DifFlBj\">IBEX 35® Volatilidad Objetivo 18% Financiado</td><td>123,40</td><td>122,40</td><td class=\"DifClBj\">-0,81</td><td>124,40</td><td>122,30</td><td align=\"center\">01/08/2022</td><td align=\"center\">17:38:00</td><td class=\"DifClBj Ult\">-6,49</td>\n",
       "</tr><tr align=\"right\">\n",
       "<td align=\"left\" class=\"DifFlSb\">VIBEX®</td><td>17,48</td><td>18,80</td><td class=\"DifClSb\">7,55</td><td>18,80</td><td>18,80</td><td align=\"center\">01/08/2022</td><td align=\"center\"> </td><td class=\"DifClSb Ult\">7,49</td>\n",
       "</tr><tr align=\"right\">\n",
       "<td align=\"left\" class=\"DifFlBj\">IBEX 35® Skew</td><td>6,25</td><td>6,05</td><td class=\"DifClBj\">-3,20</td><td>6,05</td><td>6,05</td><td align=\"center\">01/08/2022</td><td align=\"center\"> </td><td class=\"DifClSb Ult\">7,65</td>\n",
       "</tr><tr align=\"right\">\n",
       "<td align=\"left\" class=\"DifFlBj\">IBEX 35® BuyWrite</td><td>1.457,03</td><td>1.453,55</td><td class=\"DifClBj\">-0,24</td><td>1.453,55</td><td>1.453,55</td><td align=\"center\">01/08/2022</td><td align=\"center\"> </td><td class=\"DifClSb Ult\">2,46</td>\n",
       "</tr><tr align=\"right\">\n",
       "<td align=\"left\" class=\"DifFlBj\">IBEX 35® PutWrite</td><td>1.508,56</td><td>1.507,99</td><td class=\"DifClBj\">-0,04</td><td>1.507,99</td><td>1.507,99</td><td align=\"center\">01/08/2022</td><td align=\"center\"> </td><td class=\"DifClSb Ult\">9,59</td>\n",
       "</tr><tr align=\"right\">\n",
       "<td align=\"left\" class=\"DifFlBj\">IBEX 35® Protective Put</td><td>594,38</td><td>588,96</td><td class=\"DifClBj\">-0,91</td><td>588,96</td><td>588,96</td><td align=\"center\">01/08/2022</td><td align=\"center\"> </td><td class=\"DifClBj Ult\">-13,95</td>\n",
       "</tr><tr align=\"right\">\n",
       "<td align=\"left\" class=\"DifFlSb\">IBEX 35® Venta de Strangle</td><td>1.691,84</td><td>1.703,40</td><td class=\"DifClSb\">0,68</td><td>1.703,40</td><td>1.703,40</td><td align=\"center\">01/08/2022</td><td align=\"center\"> </td><td class=\"DifClSb Ult\">17,25</td>\n",
       "</tr><tr align=\"right\">\n",
       "<td align=\"left\" class=\"DifFlBj\">IBEX 35® TR Decrement 4,5%</td><td>8.164,60</td><td>8.090,40</td><td class=\"DifClBj\">-0,91</td><td>8.236,10</td><td>8.077,20</td><td align=\"center\">01/08/2022</td><td align=\"center\"> </td><td class=\"DifClBj Ult\">-7,15</td>\n",
       "</tr><tr align=\"right\">\n",
       "<td align=\"left\" class=\"DifFlBj\">IBEX 35® TR Decrement 5%</td><td>8.141,30</td><td>8.067,00</td><td class=\"DifClBj\">-0,91</td><td>8.212,30</td><td>8.053,80</td><td align=\"center\">01/08/2022</td><td align=\"center\"> </td><td class=\"DifClBj Ult\">-7,42</td>\n",
       "</tr><tr align=\"right\">\n",
       "<td align=\"left\" class=\"DifFlBj\">IBEX 35® TR Decrement 400P</td><td>8.152,80</td><td>8.078,50</td><td class=\"DifClBj\">-0,91</td><td>8.223,90</td><td>8.065,20</td><td align=\"center\">01/08/2022</td><td align=\"center\"> </td><td class=\"DifClBj Ult\">-7,29</td>\n",
       "</tr><tr align=\"right\">\n",
       "<td align=\"left\" class=\"DifFlBj\">IBEX 35® TR Decrement 450P</td><td>8.124,20</td><td>8.049,70</td><td class=\"DifClBj\">-0,92</td><td>8.194,70</td><td>8.036,50</td><td align=\"center\">01/08/2022</td><td align=\"center\"> </td><td class=\"DifClBj Ult\">-7,62</td>\n",
       "</tr><tr align=\"right\">\n",
       "<td align=\"left\" class=\"DifFlBj\">IBEX TOP Dividendo® Rentabilidad</td><td>7.432,60</td><td>7.323,40</td><td class=\"DifClBj\">-1,47</td><td>7.449,70</td><td>7.317,20</td><td align=\"center\">01/08/2022</td><td align=\"center\">17:38:00</td><td class=\"DifClSb Ult\">5,43</td>\n",
       "</tr><tr align=\"right\">\n",
       "<td align=\"left\" class=\"DifFlBj\">IBEX TOP Dividendo® Rentabilidad Neta</td><td>6.074,90</td><td>5.985,70</td><td class=\"DifClBj\">-1,47</td><td>6.088,90</td><td>5.980,60</td><td align=\"center\">01/08/2022</td><td align=\"center\">17:38:00</td><td class=\"DifClSb Ult\">4,65</td>\n",
       "</tr><tr align=\"right\">\n",
       "<td align=\"left\" class=\"DifFlBj\">IBEX MEDIUM CAP® con Dividendos</td><td>15.230,50</td><td>15.030,70</td><td class=\"DifClBj\">-1,31</td><td>15.243,10</td><td>15.027,80</td><td align=\"center\">01/08/2022</td><td align=\"center\">17:38:00</td><td class=\"DifClBj Ult\">-5,32</td>\n",
       "</tr><tr align=\"right\">\n",
       "<td align=\"left\" class=\"DifFlBj\">IBEX MEDIUM CAP® con Dividendos Netos</td><td>14.047,00</td><td>13.862,80</td><td class=\"DifClBj\">-1,31</td><td>14.058,70</td><td>13.860,10</td><td align=\"center\">01/08/2022</td><td align=\"center\">17:38:00</td><td class=\"DifClBj Ult\">-5,74</td>\n",
       "</tr><tr align=\"right\">\n",
       "<td align=\"left\" class=\"DifFlBj\">IBEX SMALL CAP® con Dividendos</td><td>11.858,80</td><td>11.634,20</td><td class=\"DifClBj\">-1,89</td><td>11.891,60</td><td>11.602,00</td><td align=\"center\">01/08/2022</td><td align=\"center\">17:38:01</td><td class=\"DifClBj Ult\">-5,77</td>\n",
       "</tr><tr align=\"right\">\n",
       "<td align=\"left\" class=\"DifFlBj\">IBEX SMALL CAP® con Dividendos Netos</td><td>11.356,00</td><td>11.140,90</td><td class=\"DifClBj\">-1,89</td><td>11.387,40</td><td>11.110,10</td><td align=\"center\">01/08/2022</td><td align=\"center\">17:38:01</td><td class=\"DifClBj Ult\">-6,12</td>\n",
       "</tr><tr align=\"right\">\n",
       "<td align=\"left\" class=\"DifFlSb\">IBEX Growth Market® 15</td><td>2.341,90</td><td>2.358,40</td><td class=\"DifClSb\">0,70</td><td>2.365,60</td><td>2.326,30</td><td align=\"center\">01/08/2022</td><td align=\"center\">17:39:00</td><td class=\"DifClBj Ult\">-3,04</td>\n",
       "</tr><tr align=\"right\">\n",
       "<td align=\"left\" class=\"DifFlSb\">IBEX Growth Market® All Share</td><td>1.922,20</td><td>1.932,70</td><td class=\"DifClSb\">0,55</td><td>1.939,20</td><td>1.914,90</td><td align=\"center\">01/08/2022</td><td align=\"center\">17:39:00</td><td class=\"DifClBj Ult\">-2,60</td>\n",
       "</tr><tr align=\"right\">\n",
       "<td align=\"left\" class=\"DifFlBj\">FTSE4Good IBEX</td><td>8.702,30</td><td>8.618,30</td><td class=\"DifClBj\">-0,97</td><td>8.777,10</td><td>8.606,60</td><td align=\"center\">01/08/2022</td><td align=\"center\">17:38:01</td><td class=\"DifClBj Ult\">-7,00</td>\n",
       "</tr><tr align=\"right\">\n",
       "<td align=\"left\" class=\"DifFlBj\">FTSE4Good IBEX Total Return</td><td>20.292,30</td><td>20.096,50</td><td class=\"DifClBj\">-0,96</td><td>20.466,70</td><td>20.069,30</td><td align=\"center\">01/08/2022</td><td align=\"center\">17:38:01</td><td class=\"DifClBj Ult\">-4,35</td>\n",
       "</tr><tr align=\"right\">\n",
       "<td align=\"left\" class=\"DifFlBj\">FTSE4Good IBEX Net Return</td><td>17.813,30</td><td>17.641,40</td><td class=\"DifClBj\">-0,97</td><td>17.966,40</td><td>17.617,60</td><td align=\"center\">01/08/2022</td><td align=\"center\">17:38:01</td><td class=\"DifClBj Ult\">-4,86</td>\n",
       "</tr><tr align=\"right\">\n",
       "<td align=\"left\" class=\"DifFlSb\">FTSE Latibex All Share</td><td>2.420,00</td><td>2.420,60</td><td class=\"DifClSb\">0,02</td><td>2.453,70</td><td>2.398,90</td><td align=\"center\">01/08/2022</td><td align=\"center\">17:38:00</td><td class=\"DifClSb Ult\">15,92</td>\n",
       "</tr><tr align=\"right\">\n",
       "<td align=\"left\" class=\"DifFlSb\">FTSE Latibex TOP</td><td>5.542,00</td><td>5.553,80</td><td class=\"DifClSb\">0,21</td><td>5.581,60</td><td>5.534,50</td><td align=\"center\">01/08/2022</td><td align=\"center\">17:38:00</td><td class=\"DifClSb Ult\">12,15</td>\n",
       "</tr><tr align=\"right\">\n",
       "<td align=\"left\" class=\"DifFlSb\">FTSE Latibex BRASIL</td><td>12.210,60</td><td>12.253,70</td><td class=\"DifClSb\">0,35</td><td>12.299,90</td><td>12.167,90</td><td align=\"center\">01/08/2022</td><td align=\"center\">17:38:00</td><td class=\"DifClSb Ult\">15,48</td>\n",
       "</tr><tr align=\"right\">\n",
       "<td align=\"left\" class=\"DifFlBj\">I.G.B.M.</td><td>809,38</td><td>801,83</td><td class=\"DifClBj\">-0,93</td><td>816,55</td><td>800,63</td><td align=\"center\">01/08/2022</td><td align=\"center\">17:38:00</td><td class=\"DifClBj Ult\">-6,96</td>\n",
       "</tr><tr align=\"right\">\n",
       "<td align=\"left\" class=\"DifFlBj\">I.G.B.M. Total</td><td>3.669,80</td><td>3.635,45</td><td class=\"DifClBj\">-0,94</td><td>3.635,45</td><td>3.635,45</td><td align=\"center\">01/08/2022</td><td align=\"center\"> </td><td class=\"DifClBj Ult\">-4,23</td>\n",
       "</tr><tr align=\"right\">\n",
       "<td align=\"left\" class=\"DifFlBj\">BCN GLOBAL 100 (Base 1986)</td><td>633,88</td><td>626,99</td><td class=\"DifClBj\">-1,09</td><td>640,03</td><td>626,14</td><td align=\"center\">01/08/2022</td><td align=\"center\">17:38:00</td><td class=\"DifClBj Ult\">-5,65</td>\n",
       "</tr><tr align=\"right\">\n",
       "<td align=\"left\" class=\"DifFlBj\">BCN GLOBAL 100 (Base 1963)</td><td>1.629,19</td><td>1.611,48</td><td class=\"DifClBj\">-1,09</td><td>1.644,98</td><td>1.609,28</td><td align=\"center\">01/08/2022</td><td align=\"center\">17:38:00</td><td class=\"DifClBj Ult\">-5,65</td>\n",
       "</tr><tr align=\"right\">\n",
       "<td align=\"left\" class=\"DifFlBj\">BCN MID 50</td><td>23.608,56</td><td>23.219,62</td><td class=\"DifClBj\">-1,65</td><td>23.680,32</td><td>23.203,28</td><td align=\"center\">01/08/2022</td><td align=\"center\">17:38:00</td><td class=\"DifClBj Ult\">-7,16</td>\n",
       "</tr><tr align=\"right\">\n",
       "<td align=\"left\" class=\"DifFlBj\">BCN PROFIT-30</td><td>10.237,64</td><td>10.115,98</td><td class=\"DifClBj\">-1,19</td><td>10.336,59</td><td>10.109,42</td><td align=\"center\">01/08/2022</td><td align=\"center\">17:38:00</td><td class=\"DifClBj Ult\">-3,65</td>\n",
       "</tr><tr align=\"right\">\n",
       "<td align=\"left\" class=\"DifFlBj\">BCN ROE-30</td><td>16.042,77</td><td>15.806,85</td><td class=\"DifClBj\">-1,47</td><td>16.133,41</td><td>15.806,85</td><td align=\"center\">01/08/2022</td><td align=\"center\">17:38:00</td><td class=\"DifClBj Ult\">-7,60</td>\n",
       "</tr><tr align=\"right\">\n",
       "<td align=\"left\" class=\"DifFlBj\">BCN PER-30</td><td>16.431,27</td><td>16.196,18</td><td class=\"DifClBj\">-1,43</td><td>16.558,03</td><td>16.196,18</td><td align=\"center\">01/08/2022</td><td align=\"center\">17:38:00</td><td class=\"DifClBj Ult\">-3,91</td>\n",
       "</tr><tr align=\"right\">\n",
       "<td align=\"left\" class=\"DifFlBj\">BCN INDEXCAT</td><td>20.503,91</td><td>20.175,30</td><td class=\"DifClBj\">-1,60</td><td>20.609,94</td><td>20.161,92</td><td align=\"center\">01/08/2022</td><td align=\"center\">17:38:00</td><td class=\"DifClBj Ult\">-11,03</td>\n",
       "</tr><tr align=\"right\">\n",
       "<td align=\"left\" class=\"DifFlBj\">I.BILBAO 2000</td><td>1.305,95</td><td>1.295,49</td><td class=\"DifClBj\">-0,80</td><td>1.316,87</td><td>1.293,47</td><td align=\"center\">01/08/2022</td><td align=\"center\">17:38:00</td><td class=\"DifClBj Ult\">-7,29</td>\n",
       "</tr><tr align=\"right\">\n",
       "<td align=\"left\" class=\"DifFlBj\">I.G.B.V.</td><td>1.238,96</td><td>1.226,31</td><td class=\"DifClBj\">-1,02</td><td>1.249,14</td><td>1.224,70</td><td align=\"center\">01/08/2022</td><td align=\"center\">17:38:00</td><td class=\"DifClBj Ult\">-1,84</td>\n",
       "</tr><tr align=\"right\">\n",
       "<td align=\"left\" class=\"DifFlBj\">Índice TEF Apalancado X3</td><td>358,10</td><td>330,00</td><td class=\"DifClBj\">-7,85</td><td>371,40</td><td>328,80</td><td align=\"center\">01/08/2022</td><td align=\"center\">17:38:01</td><td class=\"DifClSb Ult\">31,37</td>\n",
       "</tr><tr align=\"right\">\n",
       "<td align=\"left\" class=\"DifFlBj\">Índice SAN Apalancado X3</td><td>134,80</td><td>127,00</td><td class=\"DifClBj\">-5,79</td><td>141,50</td><td>125,10</td><td align=\"center\">01/08/2022</td><td align=\"center\">17:38:01</td><td class=\"DifClBj Ult\">-57,51</td>\n",
       "</tr><tr align=\"right\">\n",
       "<td align=\"left\" class=\"DifFlBj\">Índice BBVA Apalancado X3</td><td>234,90</td><td>226,70</td><td class=\"DifClBj\">-3,49</td><td>249,90</td><td>225,90</td><td align=\"center\">01/08/2022</td><td align=\"center\">17:38:00</td><td class=\"DifClBj Ult\">-51,94</td>\n",
       "</tr><tr align=\"right\">\n",
       "<td align=\"left\" class=\"DifFlSb\">Índice ITX Apalancado X3</td><td>1.626,00</td><td>1.663,10</td><td class=\"DifClSb\">2,28</td><td>1.696,00</td><td>1.623,90</td><td align=\"center\">01/08/2022</td><td align=\"center\">17:38:01</td><td class=\"DifClBj Ult\">-48,60</td>\n",
       "</tr><tr align=\"right\">\n",
       "<td align=\"left\" class=\"DifFlBj\">Índice TEF Apalancado X5</td><td>371,30</td><td>322,70</td><td class=\"DifClBj\">-13,09</td><td>394,30</td><td>320,60</td><td align=\"center\">01/08/2022</td><td align=\"center\">17:38:01</td><td class=\"DifClSb Ult\">35,30</td>\n",
       "</tr><tr align=\"right\">\n",
       "<td align=\"left\" class=\"DifFlBj\">Índice SAN Apalancado X5</td><td>169,90</td><td>153,50</td><td class=\"DifClBj\">-9,65</td><td>184,00</td><td>149,50</td><td align=\"center\">01/08/2022</td><td align=\"center\">17:38:01</td><td class=\"DifClBj Ult\">-85,45</td>\n",
       "</tr><tr align=\"right\">\n",
       "<td align=\"left\" class=\"DifFlBj\">Índice BBVA Apalancado X5</td><td>60,30</td><td>56,80</td><td class=\"DifClBj\">-5,80</td><td>66,70</td><td>56,40</td><td align=\"center\">01/08/2022</td><td align=\"center\">17:38:00</td><td class=\"DifClBj Ult\">-82,33</td>\n",
       "</tr><tr align=\"right\">\n",
       "<td align=\"left\" class=\"DifFlSb\">Índice ITX Apalancado X5</td><td>35,30</td><td>36,60</td><td class=\"DifClSb\">3,68</td><td>37,80</td><td>35,20</td><td align=\"center\">01/08/2022</td><td align=\"center\">17:38:01</td><td class=\"DifClBj Ult\">-76,16</td>\n",
       "</tr><tr align=\"right\">\n",
       "<td align=\"left\" class=\"DifFlSb\">Índice TEF Inverso X3</td><td>395,70</td><td>426,20</td><td class=\"DifClSb\">7,71</td><td>427,50</td><td>380,40</td><td align=\"center\">01/08/2022</td><td align=\"center\">17:38:01</td><td class=\"DifClBj Ult\">-48,26</td>\n",
       "</tr><tr align=\"right\">\n",
       "<td align=\"left\" class=\"DifFlSb\">Índice SAN Inverso X3</td><td>37,90</td><td>40,00</td><td class=\"DifClSb\">5,54</td><td>40,60</td><td>36,00</td><td align=\"center\">01/08/2022</td><td align=\"center\">17:38:01</td><td class=\"DifClBj Ult\">-8,05</td>\n",
       "</tr><tr align=\"right\">\n",
       "<td align=\"left\" class=\"DifFlSb\">Índice BBVA Inverso X3</td><td>26,40</td><td>27,30</td><td class=\"DifClSb\">3,41</td><td>27,40</td><td>24,70</td><td align=\"center\">01/08/2022</td><td align=\"center\">17:38:00</td><td class=\"DifClBj Ult\">-20,87</td>\n",
       "</tr><tr align=\"right\">\n",
       "<td align=\"left\" class=\"DifFlBj\">Índice ITX Inverso X3</td><td>194,80</td><td>190,10</td><td class=\"DifClBj\">-2,41</td><td>194,80</td><td>186,10</td><td align=\"center\">01/08/2022</td><td align=\"center\">17:38:01</td><td class=\"DifClBj Ult\">-2,01</td>\n",
       "</tr><tr align=\"right\">\n",
       "<td align=\"left\" class=\"DifFlSb\">Índice TEF Inverso X5</td><td>2.450,40</td><td>2.764,80</td><td class=\"DifClSb\">12,83</td><td>2.778,90</td><td>2.292,40</td><td align=\"center\">01/08/2022</td><td align=\"center\">17:38:01</td><td class=\"DifClBj Ult\">-71,14</td>\n",
       "</tr><tr align=\"right\">\n",
       "<td align=\"left\" class=\"DifFlSb\">Índice SAN Inverso X5</td><td>1.956,80</td><td>2.140,40</td><td class=\"DifClSb\">9,38</td><td>2.186,50</td><td>1.789,50</td><td align=\"center\">01/08/2022</td><td align=\"center\">17:38:01</td><td class=\"DifClBj Ult\">-45,44</td>\n",
       "</tr><tr align=\"right\">\n",
       "<td align=\"left\" class=\"DifFlSb\">Índice BBVA Inverso X5</td><td>2.753,00</td><td>2.906,60</td><td class=\"DifClSb\">5,58</td><td>2.922,20</td><td>2.453,20</td><td align=\"center\">01/08/2022</td><td align=\"center\">17:38:00</td><td class=\"DifClBj Ult\">-58,74</td>\n",
       "</tr><tr align=\"right\">\n",
       "<td align=\"left\" class=\"DifFlBj\">Índice ITX Inverso X5</td><td>693,30</td><td>665,20</td><td class=\"DifClBj\">-4,05</td><td>693,00</td><td>641,80</td><td align=\"center\">01/08/2022</td><td align=\"center\">17:38:01</td><td class=\"DifClBj Ult\">-30,57</td>\n",
       "</tr>\n",
       "</table>"
      ]
     },
     "execution_count": 31,
     "metadata": {},
     "output_type": "execute_result"
    }
   ],
   "source": [
    "# Obtenemos la tabla por un ID específico\n",
    "tabla = soup.find('table', attrs={'id': 'ctl00_Contenido_tblÍndices'})\n",
    "tabla"
   ]
  },
  {
   "cell_type": "code",
   "execution_count": 32,
   "metadata": {
    "ExecuteTime": {
     "end_time": "2019-01-27T17:55:08.443093Z",
     "start_time": "2019-01-27T17:55:08.436365Z"
    }
   },
   "outputs": [
    {
     "name": "stdout",
     "output_type": "stream",
     "text": [
      "Indice: IBEX 35®\n",
      "Valor: 8.085,10\n"
     ]
    }
   ],
   "source": [
    "name=\"\"\n",
    "price=\"\"\n",
    "nroFila=0\n",
    "for fila in tabla.find_all(\"tr\"):\n",
    "    if nroFila==1:\n",
    "        nroCelda=0\n",
    "        for celda in fila.find_all('td'):\n",
    "            if nroCelda==0:\n",
    "                name=celda.text\n",
    "                print(\"Indice:\", name)\n",
    "            if nroCelda==2:\n",
    "                price=celda.text\n",
    "                print(\"Valor:\", price)\n",
    "            nroCelda=nroCelda+1\n",
    "    nroFila=nroFila+1"
   ]
  },
  {
   "cell_type": "code",
   "execution_count": 33,
   "metadata": {
    "ExecuteTime": {
     "end_time": "2019-01-27T17:56:28.279786Z",
     "start_time": "2019-01-27T17:56:28.271938Z"
    }
   },
   "outputs": [],
   "source": [
    "# Abrimos el csv con append para que pueda agregar contenidos al final del archivo\n",
    "with open('bolsa_ibex35.csv', 'a') as csv_file:\n",
    "    writer = csv.writer(csv_file)\n",
    "    writer.writerow([name, price, datetime.now()])"
   ]
  },
  {
   "cell_type": "markdown",
   "metadata": {},
   "source": [
    "# Obtener resultados de Futbol\n",
    "## Ejemplo Liga BBVA - España - Primera -  desde marcadores.com"
   ]
  },
  {
   "cell_type": "code",
   "execution_count": 34,
   "metadata": {
    "ExecuteTime": {
     "end_time": "2019-01-27T18:26:04.881325Z",
     "start_time": "2019-01-27T18:26:04.877803Z"
    }
   },
   "outputs": [],
   "source": [
    "url_page = 'https://www.marcadores.com/futbol/espana/liga-bbva/?competitionRoundId=486942' # jornada 20"
   ]
  },
  {
   "cell_type": "code",
   "execution_count": 35,
   "metadata": {
    "ExecuteTime": {
     "end_time": "2019-01-27T18:26:07.064454Z",
     "start_time": "2019-01-27T18:26:05.493551Z"
    }
   },
   "outputs": [],
   "source": [
    "# tarda 1500 milisegundos\n",
    "page = requests.get(url_page).text \n",
    "soup = BeautifulSoup(page)"
   ]
  },
  {
   "cell_type": "code",
   "execution_count": 36,
   "metadata": {
    "ExecuteTime": {
     "end_time": "2019-01-27T18:31:00.402982Z",
     "start_time": "2019-01-27T18:31:00.299063Z"
    }
   },
   "outputs": [
    {
     "data": {
      "text/plain": [
       "<table class=\"table matches table-condensed layout-fixed\" data-version=\"8b1241cc7aab6718a99f272b8c4c9db4\" data-widget-name=\"MatchListingCompetitionWidget\" id=\"table-3752ce0502a0fbae6a42a9d147dd942f-default\"><colgroup><col class=\"hour\"/><col class=\"time\"/><col class=\"\"/><col class=\"half-time-score\"/><col class=\"favorite\"/></colgroup><tbody id=\"body-empty\"><tr id=\"row-empty-63fb1ebcfad6ef0ee9b0c7ca624074f3\"><td class=\"date\" colspan=\"9\" id=\"cell-empty-6cbca63a55b382f6ca75897d40167dab\"><div class=\"empty-state\"><span class=\"icon icon-football\"></span><p>\n",
       "        No hay datos disponibles\n",
       "    </p></div></td></tr></tbody></table>"
      ]
     },
     "execution_count": 36,
     "metadata": {},
     "output_type": "execute_result"
    }
   ],
   "source": [
    "# Obtenemos la tabla por un ID específico\n",
    "tabla = soup.find('table', attrs={'class': 'matches'})\n",
    "tabla"
   ]
  },
  {
   "cell_type": "code",
   "execution_count": 37,
   "metadata": {
    "ExecuteTime": {
     "end_time": "2019-01-27T18:33:29.634584Z",
     "start_time": "2019-01-27T18:33:29.621584Z"
    }
   },
   "outputs": [],
   "source": [
    "data = []\n",
    "equipo1=\"\"\n",
    "equipo2=\"\"\n",
    "resultado=\"\"\n",
    "nroFila=0\n",
    "for fila in tabla.find_all(\"tr\"):\n",
    "    if nroFila>0:\n",
    "        nroCelda=0\n",
    "        capturar=False\n",
    "        for celda in fila.find_all('td'):\n",
    "            if nroCelda==1 and celda.text=='Fin.':\n",
    "                capturar=True\n",
    "            if capturar and nroCelda==2:\n",
    "                equipo1=celda.text\n",
    "            if capturar and nroCelda==4:\n",
    "                equipo2=celda.text\n",
    "            if capturar and nroCelda==5:\n",
    "                resultado=celda.text\n",
    "                print(\"Partido:\", equipo1,'vs',equipo2,resultado)\n",
    "                data.append((equipo1,equipo2,resultado))\n",
    "            nroCelda=nroCelda+1\n",
    "    nroFila=nroFila+1"
   ]
  },
  {
   "cell_type": "code",
   "execution_count": 38,
   "metadata": {
    "ExecuteTime": {
     "end_time": "2019-01-27T18:34:52.245736Z",
     "start_time": "2019-01-27T18:34:52.233185Z"
    }
   },
   "outputs": [],
   "source": [
    "# Abrimos el csv con append para que pueda agregar contenidos al final del archivo\n",
    "with open('partidos_liga_primera.csv', 'a') as csv_file:\n",
    "    writer = csv.writer(csv_file)\n",
    "    for equipo1, equipo2,resultado in data:\n",
    "        writer.writerow([equipo1, equipo2, resultado,datetime.now()])"
   ]
  },
  {
   "cell_type": "markdown",
   "metadata": {},
   "source": [
    "# Otros ejemplos de WebScaping"
   ]
  },
  {
   "cell_type": "code",
   "execution_count": 39,
   "metadata": {
    "ExecuteTime": {
     "end_time": "2019-01-28T18:12:37.428233Z",
     "start_time": "2019-01-28T18:12:37.420625Z"
    }
   },
   "outputs": [],
   "source": [
    "#supongamos tenemos el siguiente HTML\n",
    "pagina_web = \"<html>\" \\\n",
    "            + \"<head></head>\" \\\n",
    "            + \"<body>\" \\\n",
    "                + \"<div class='contenedor'>\" \\\n",
    "                    + \"<div id='123' name='bloque_bienvenida' class='verde'>\" \\\n",
    "                        + \"Bienvenido a mi web\" \\\n",
    "                    + \"</div>\" \\\n",
    "                + \"</div>\" \\\n",
    "            + \"</body>\" \\\n",
    "            + \"</html>\""
   ]
  },
  {
   "cell_type": "code",
   "execution_count": 40,
   "metadata": {
    "ExecuteTime": {
     "end_time": "2019-01-28T18:12:38.100550Z",
     "start_time": "2019-01-28T18:12:38.096154Z"
    }
   },
   "outputs": [],
   "source": [
    "soup = BeautifulSoup(pagina_web)"
   ]
  },
  {
   "cell_type": "code",
   "execution_count": 41,
   "metadata": {
    "ExecuteTime": {
     "end_time": "2019-01-28T18:12:38.677469Z",
     "start_time": "2019-01-28T18:12:38.670578Z"
    }
   },
   "outputs": [
    {
     "name": "stdout",
     "output_type": "stream",
     "text": [
      "Bienvenido a mi web\n"
     ]
    }
   ],
   "source": [
    "#Obtener por ID:\n",
    "elTexto = soup.find('div', attrs={'id': '123'}).getText()\n",
    "print(elTexto)"
   ]
  },
  {
   "cell_type": "code",
   "execution_count": 42,
   "metadata": {
    "ExecuteTime": {
     "end_time": "2019-01-28T18:12:39.718413Z",
     "start_time": "2019-01-28T18:12:39.712544Z"
    }
   },
   "outputs": [
    {
     "name": "stdout",
     "output_type": "stream",
     "text": [
      "Bienvenido a mi web\n"
     ]
    }
   ],
   "source": [
    "#Obtener por Clase CSS:\n",
    "elTexto = soup.find('div', attrs={'class': 'verde'}).getText()\n",
    "print(elTexto)"
   ]
  },
  {
   "cell_type": "code",
   "execution_count": 43,
   "metadata": {
    "ExecuteTime": {
     "end_time": "2019-01-28T18:12:40.673362Z",
     "start_time": "2019-01-28T18:12:40.667391Z"
    }
   },
   "outputs": [
    {
     "name": "stdout",
     "output_type": "stream",
     "text": [
      "Bienvenido a mi web\n"
     ]
    }
   ],
   "source": [
    "#Obtener dentro de otra etiqueta anidado:\n",
    "elTexto = next(soup.div.children).getText() #con next obtiene primer \"hijo\"\n",
    "print(elTexto)"
   ]
  },
  {
   "cell_type": "markdown",
   "metadata": {},
   "source": [
    "## Obtener items de un listado"
   ]
  },
  {
   "cell_type": "code",
   "execution_count": 44,
   "metadata": {
    "ExecuteTime": {
     "end_time": "2019-01-28T18:12:42.573969Z",
     "start_time": "2019-01-28T18:12:42.567849Z"
    }
   },
   "outputs": [],
   "source": [
    "#supongamos tenemos el siguiente HTML\n",
    "pagina_web = \"<html>\" \\\n",
    "    + \"<head></head>\" \\\n",
    "    + \"<body>\" \\\n",
    "        + \"<div class='contenedor'>\" \\\n",
    "            + \"<ul>\" \\\n",
    "                + \"<li>Perro</li>\" \\\n",
    "                + \"<li>Gato</li>\" \\\n",
    "                + \"<li>Tortuga</li>\" \\\n",
    "            + \"</ul>\" \\\n",
    "        + \"</div>\" \\\n",
    "    + \"</body>\" \\\n",
    "    + \"</html>\""
   ]
  },
  {
   "cell_type": "code",
   "execution_count": 45,
   "metadata": {
    "ExecuteTime": {
     "end_time": "2019-01-28T18:12:43.383058Z",
     "start_time": "2019-01-28T18:12:43.378520Z"
    }
   },
   "outputs": [],
   "source": [
    "soup = BeautifulSoup(pagina_web)"
   ]
  },
  {
   "cell_type": "code",
   "execution_count": 46,
   "metadata": {
    "ExecuteTime": {
     "end_time": "2019-01-28T18:12:44.100260Z",
     "start_time": "2019-01-28T18:12:44.094916Z"
    }
   },
   "outputs": [
    {
     "name": "stdout",
     "output_type": "stream",
     "text": [
      "Perro\n",
      "Gato\n",
      "Tortuga\n"
     ]
    }
   ],
   "source": [
    "for child in soup.ul.children:\n",
    "    print(child.getText())"
   ]
  },
  {
   "cell_type": "code",
   "execution_count": 47,
   "metadata": {
    "ExecuteTime": {
     "end_time": "2019-01-28T18:12:44.972925Z",
     "start_time": "2019-01-28T18:12:44.967460Z"
    }
   },
   "outputs": [
    {
     "name": "stdout",
     "output_type": "stream",
     "text": [
      "Perro\n",
      "Gato\n",
      "Tortuga\n"
     ]
    }
   ],
   "source": [
    "items = soup.find_all('li')\n",
    "for item in items:\n",
    "    print(item.getText())"
   ]
  },
  {
   "cell_type": "markdown",
   "metadata": {},
   "source": [
    "## Obtener Enlaces"
   ]
  },
  {
   "cell_type": "code",
   "execution_count": 48,
   "metadata": {
    "ExecuteTime": {
     "end_time": "2019-01-29T09:25:01.595660Z",
     "start_time": "2019-01-29T09:25:01.576485Z"
    }
   },
   "outputs": [],
   "source": [
    "#supongamos tenemos el siguiente HTML\n",
    "pagina_web = \"<html>\" \\\n",
    "    + \"<head></head>\" \\\n",
    "    + \"<body>\" \\\n",
    "        + \"<div class='contenedor'>\" \\\n",
    "            + \"<ul>\" \\\n",
    "                + \"<li><a href='http://www.google.com'>Google</a></li>\" \\\n",
    "                + \"<li><a href='http://www.yahoo.com'>Yahoo</a></li>\" \\\n",
    "                + \"<li><a href='http://www.bing.com'>Bing</a></li>\" \\\n",
    "            + \"</ul>\" \\\n",
    "        + \"</div>\" \\\n",
    "    + \"</body>\" \\\n",
    "    + \"</html>\""
   ]
  },
  {
   "cell_type": "code",
   "execution_count": 49,
   "metadata": {
    "ExecuteTime": {
     "end_time": "2019-01-29T09:25:04.281499Z",
     "start_time": "2019-01-29T09:25:04.250643Z"
    }
   },
   "outputs": [],
   "source": [
    "soup = BeautifulSoup(pagina_web)"
   ]
  },
  {
   "cell_type": "code",
   "execution_count": 50,
   "metadata": {
    "ExecuteTime": {
     "end_time": "2019-01-29T09:25:43.006626Z",
     "start_time": "2019-01-29T09:25:42.996092Z"
    }
   },
   "outputs": [
    {
     "name": "stdout",
     "output_type": "stream",
     "text": [
      "http://www.google.com\n",
      "http://www.yahoo.com\n",
      "http://www.bing.com\n"
     ]
    }
   ],
   "source": [
    "items = soup.find_all('a')\n",
    "for item in items:\n",
    "    print(item['href'])"
   ]
  },
  {
   "cell_type": "markdown",
   "metadata": {},
   "source": [
    "## Ejemplo completo Extraer enlaces"
   ]
  },
  {
   "cell_type": "code",
   "execution_count": 51,
   "metadata": {
    "ExecuteTime": {
     "end_time": "2019-01-29T09:37:57.684739Z",
     "start_time": "2019-01-29T09:37:57.069538Z"
    }
   },
   "outputs": [
    {
     "name": "stdout",
     "output_type": "stream",
     "text": [
      "https://www.lifeder.com/personajes-historicos/\n",
      "https://www.lifeder.com/sol/\n",
      "https://www.lifeder.com/pasos-metodo-cientifico/\n",
      "https://www.lifeder.com/plantas/\n",
      "https://www.lifeder.com/sistema-nervioso/\n",
      "https://www.lifeder.com/adn/\n",
      "https://www.lifeder.com/efecto-invernadero/\n",
      "https://www.lifeder.com/caracteristicas-literatura/\n",
      "https://www.lifeder.com/condicionamiento-clasico/\n",
      "https://www.lifeder.com/cientificos-famosos/\n",
      "#\n"
     ]
    }
   ],
   "source": [
    "url_page = 'https://www.lifeder.com/cientificos-famosos/'\n",
    "page = requests.get(url_page).text \n",
    "soup = BeautifulSoup(page)\n",
    "contenido = soup.find('div', attrs={'class': 'td-post-content'})\n",
    "items = contenido.find_all('a')\n",
    "for item in items:\n",
    "    print(item['href'])"
   ]
  },
  {
   "cell_type": "markdown",
   "metadata": {},
   "source": [
    "El artículo completo en www.aprendemachinelearning.com"
   ]
  }
 ],
 "metadata": {
  "kernelspec": {
   "display_name": "Python 3.10.2 64-bit",
   "language": "python",
   "name": "python3"
  },
  "language_info": {
   "codemirror_mode": {
    "name": "ipython",
    "version": 3
   },
   "file_extension": ".py",
   "mimetype": "text/x-python",
   "name": "python",
   "nbconvert_exporter": "python",
   "pygments_lexer": "ipython3",
   "version": "3.10.2"
  },
  "vscode": {
   "interpreter": {
    "hash": "369f2c481f4da34e4445cda3fffd2e751bd1c4d706f27375911949ba6bb62e1c"
   }
  }
 },
 "nbformat": 4,
 "nbformat_minor": 2
}
